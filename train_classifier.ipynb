{
 "cells": [
  {
   "cell_type": "markdown",
   "id": "440c43c9-0a2c-4a3b-9e4a-d458722e4d19",
   "metadata": {},
   "source": [
    "## Train Hand Classifier"
   ]
  },
  {
   "cell_type": "code",
   "execution_count": 1,
   "id": "4cf4e7c1-b968-45db-9d42-08e53caa335c",
   "metadata": {},
   "outputs": [],
   "source": [
    "import torch\n",
    "from torch import nn\n",
    "import torch.nn.functional as F\n",
    "from torchvision import transforms\n",
    "from torchvision.datasets import ImageFolder\n",
    "from torch.utils.data.dataloader import DataLoader\n",
    "from torch.utils.data import random_split, ConcatDataset\n",
    "import matplotlib.pyplot as plt\n",
    "import cv2\n",
    "from math import ceil\n",
    "import sys\n",
    "import time"
   ]
  },
  {
   "cell_type": "markdown",
   "id": "821abad7-dbd8-4fb2-9172-4034300f02d9",
   "metadata": {},
   "source": [
    "Packages versions:"
   ]
  },
  {
   "cell_type": "code",
   "execution_count": 2,
   "id": "5804a3a4-da32-4e95-84bc-933fa3462d89",
   "metadata": {},
   "outputs": [
    {
     "name": "stdout",
     "output_type": "stream",
     "text": [
      "Python: 3.9.7 (default, Sep 16 2021, 16:59:28) [MSC v.1916 64 bit (AMD64)]\n",
      "PyTorch: 1.11.0\n"
     ]
    }
   ],
   "source": [
    "print('Python:', sys.version)\n",
    "print('PyTorch:', torch.__version__)"
   ]
  },
  {
   "cell_type": "markdown",
   "id": "8491be6a-cd22-4a76-9079-62e8f7fff6e8",
   "metadata": {},
   "source": [
    "**Initial configurations**"
   ]
  },
  {
   "cell_type": "code",
   "execution_count": 3,
   "id": "2cdc7d52-cd85-4a80-8429-25421c39ebd0",
   "metadata": {},
   "outputs": [],
   "source": [
    "# define model id\n",
    "model_id = 'classification_model_05'\n",
    "\n",
    "# define images path\n",
    "images_folder = './data/letters'"
   ]
  },
  {
   "cell_type": "markdown",
   "id": "1a5dabbd-7b11-4383-9234-7f220c5a6f0a",
   "metadata": {},
   "source": [
    "Data preparation:"
   ]
  },
  {
   "cell_type": "code",
   "execution_count": 4,
   "id": "7edb0cdc-97cf-42e5-954a-865eac1f4de1",
   "metadata": {},
   "outputs": [],
   "source": [
    "# read data\n",
    "dataset = ImageFolder(images_folder, transform = transforms.Compose([\n",
    "    transforms.Resize((64, 64)), transforms.ToTensor()\n",
    "]))"
   ]
  },
  {
   "cell_type": "code",
   "execution_count": 5,
   "id": "bd77acf1-a20d-4f27-8522-4b99cdf7cc99",
   "metadata": {},
   "outputs": [
    {
     "name": "stdout",
     "output_type": "stream",
     "text": [
      "Classes: ['A', 'B', 'C', 'D', 'E', 'F', 'G', 'I', 'L', 'M', 'N', 'O', 'P', 'Q', 'R', 'S', 'T', 'U', 'V', 'W', 'Y']\n",
      "Number of classes: 21\n",
      "Size of dataset: 49551\n"
     ]
    }
   ],
   "source": [
    "# print classes and size of dataset\n",
    "classes = dataset.classes\n",
    "print('Classes:', classes)\n",
    "print('Number of classes:', len(classes))\n",
    "dataset_size = len(dataset)\n",
    "print('Size of dataset:', dataset_size)"
   ]
  },
  {
   "cell_type": "code",
   "execution_count": 6,
   "id": "5d13ae5c-42c8-454f-8f19-c8c259852b1b",
   "metadata": {},
   "outputs": [
    {
     "name": "stdout",
     "output_type": "stream",
     "text": [
      "* Sizes after splitting *\n",
      "Train: 29729\n",
      "Validation: 9911\n",
      "Test: 9911\n"
     ]
    }
   ],
   "source": [
    "# splitting data into train, val and test\n",
    "val_size = ceil(dataset_size * 0.2)\n",
    "test_size = ceil(dataset_size * 0.2)\n",
    "train_size = len(dataset) - val_size - test_size\n",
    "train_data, val_data, test_data = random_split(dataset, [train_size, val_size, test_size], torch.Generator().manual_seed(74))\n",
    "\n",
    "print('* Sizes after splitting *')\n",
    "print('Train:', train_size)\n",
    "print('Validation:', val_size)\n",
    "print('Test:', test_size)"
   ]
  },
  {
   "cell_type": "code",
   "execution_count": 7,
   "id": "6267d883-d59e-48a8-b9db-e413bcf28db8",
   "metadata": {},
   "outputs": [],
   "source": [
    "# load the datasets into batches\n",
    "batch_size = 50\n",
    "train_dl = DataLoader(train_data, batch_size, shuffle = True, num_workers = 0, pin_memory = True)\n",
    "val_dl = DataLoader(val_data, batch_size, num_workers = 0, pin_memory = True)"
   ]
  },
  {
   "cell_type": "markdown",
   "id": "84062dfe-0f75-48ab-97f7-0dcc863e408e",
   "metadata": {},
   "source": [
    "Create classes and functions for training:"
   ]
  },
  {
   "cell_type": "code",
   "execution_count": 8,
   "id": "1d2c8d99-4402-4770-849a-1d85b66d65e7",
   "metadata": {},
   "outputs": [],
   "source": [
    "# create base class for model training\n",
    "class ImageClassificationBase(nn.Module):\n",
    "    \n",
    "    def training_step(self, batch):\n",
    "        images, labels = batch \n",
    "        out = self(images)  # predictions\n",
    "        loss = F.cross_entropy(out, labels) # loss\n",
    "        return loss\n",
    "    \n",
    "    def validation_step(self, batch):\n",
    "        images, labels = batch \n",
    "        out = self(images) # predictions\n",
    "        loss = F.cross_entropy(out, labels) # loss\n",
    "        acc = accuracy(out, labels) # accuracy\n",
    "        return {'val_loss': loss.detach(), 'val_acc': acc}\n",
    "        \n",
    "    def validation_epoch_end(self, outputs):\n",
    "        batch_losses = [x['val_loss'] for x in outputs]\n",
    "        epoch_loss = torch.stack(batch_losses).mean() # mean of loss\n",
    "        batch_accs = [x['val_acc'] for x in outputs]\n",
    "        epoch_acc = torch.stack(batch_accs).mean() # mean of accuracies\n",
    "        return {'val_loss': epoch_loss.item(), 'val_acc': epoch_acc.item()}\n",
    "    \n",
    "    def epoch_end(self, epoch, result):\n",
    "        train_loss = round(result['train_loss'], 4)\n",
    "        val_loss = round(result['val_loss'], 4)\n",
    "        val_acc = round(result['val_acc'], 4)\n",
    "        print(f'Epoch [{epoch}], train_loss: {train_loss}, val_loss: {val_loss}, val_acc: {val_acc}')"
   ]
  },
  {
   "cell_type": "code",
   "execution_count": 9,
   "id": "4a9ecf5d-a1d0-4fc9-adf3-c94ff98fe465",
   "metadata": {},
   "outputs": [],
   "source": [
    "# define accuracy function\n",
    "def accuracy(outputs, labels):\n",
    "    _, preds = torch.max(outputs, dim=1)\n",
    "    return torch.tensor(torch.sum(preds == labels).item() / len(preds))"
   ]
  },
  {
   "cell_type": "code",
   "execution_count": 10,
   "id": "476820ab-e7d9-431f-b165-49dd0cddf63f",
   "metadata": {},
   "outputs": [],
   "source": [
    "# architecture of CNN model\n",
    "class HandGestureClassification(ImageClassificationBase):\n",
    "    \n",
    "    def __init__(self):\n",
    "\n",
    "        super().__init__()\n",
    "        self.network = nn.Sequential(\n",
    "            \n",
    "            nn.Conv2d(3, 32, kernel_size = 3, stride = 1, padding = 1),\n",
    "            nn.ReLU(),\n",
    "            nn.Conv2d(32, 64, kernel_size = 3, stride = 1, padding = 1),\n",
    "            nn.ReLU(),\n",
    "            nn.MaxPool2d(2,2),\n",
    "        \n",
    "            nn.Conv2d(64, 128, kernel_size = 3, stride = 1, padding = 1),\n",
    "            nn.ReLU(),\n",
    "            nn.Conv2d(128, 128, kernel_size = 3, stride = 1, padding = 1),\n",
    "            nn.ReLU(),\n",
    "            nn.MaxPool2d(2,2),\n",
    "            \n",
    "            nn.Conv2d(128, 256, kernel_size = 3, stride = 1, padding = 1),\n",
    "            nn.ReLU(),\n",
    "            nn.Conv2d(256, 256, kernel_size = 3, stride = 1, padding = 1),\n",
    "            nn.ReLU(),\n",
    "            nn.MaxPool2d(2,2),\n",
    "            \n",
    "            nn.Flatten(),\n",
    "            nn.Linear(16384, 1024),\n",
    "            nn.ReLU(),\n",
    "            nn.Linear(1024, 512),\n",
    "            nn.ReLU(),\n",
    "            nn.Linear(512, 21)\n",
    "        )\n",
    "    \n",
    "    def forward(self, xb):\n",
    "        return self.network(xb)"
   ]
  },
  {
   "cell_type": "code",
   "execution_count": 11,
   "id": "860188f5-e34a-4154-82bd-54969addb068",
   "metadata": {},
   "outputs": [],
   "source": [
    "# define device\n",
    "def get_default_device():\n",
    "    # set device to GPU or CPU\n",
    "    if torch.cuda.is_available():\n",
    "        return torch.device('cuda')\n",
    "    else:\n",
    "        return torch.device('cpu')\n",
    "    \n",
    "def to_device(data, device):\n",
    "    # mode data to device\n",
    "    if isinstance(data,(list,tuple)):\n",
    "        return [to_device(x,device) for x in data]\n",
    "    \n",
    "    return data.to(device,non_blocking = True)\n",
    "\n",
    "class DeviceDataLoader():\n",
    "    \n",
    "    def __init__(self, dl, device):\n",
    "        self.dl = dl\n",
    "        self.device = device\n",
    "    \n",
    "    def __iter__(self):\n",
    "        for b in self.dl:\n",
    "            yield to_device(b,self.device)\n",
    "            \n",
    "    def __len__(self):\n",
    "        # number of batches\n",
    "        return len(self.dl)"
   ]
  },
  {
   "cell_type": "code",
   "execution_count": 12,
   "id": "bb8353e8-e789-4188-87eb-23d261cd57fb",
   "metadata": {},
   "outputs": [],
   "source": [
    "# model fitting\n",
    "@torch.no_grad()\n",
    "def evaluate(model, val_loader):\n",
    "    model.eval()\n",
    "    outputs = [model.validation_step(batch) for batch in val_loader]\n",
    "    return model.validation_epoch_end(outputs)\n",
    "\n",
    "def fit(epochs, lr, model, train_loader, val_loader, opt_func = torch.optim.SGD):\n",
    "    history = []\n",
    "    optimizer = opt_func(model.parameters(), lr)\n",
    "    \n",
    "    for epoch in range(epochs):\n",
    "\n",
    "        model.train()\n",
    "        train_losses = []\n",
    "        for batch in train_loader:\n",
    "            loss = model.training_step(batch)\n",
    "            train_losses.append(loss)\n",
    "            loss.backward()\n",
    "            optimizer.step()\n",
    "            optimizer.zero_grad()\n",
    "            \n",
    "        result = evaluate(model, val_loader)\n",
    "        result['train_loss'] = torch.stack(train_losses).mean().item()\n",
    "        model.epoch_end(epoch, result)\n",
    "        history.append(result)\n",
    "    \n",
    "    return history"
   ]
  },
  {
   "cell_type": "code",
   "execution_count": 13,
   "id": "c2ad7a1d-f435-4612-af0f-0aec5c0123e1",
   "metadata": {},
   "outputs": [],
   "source": [
    "# define plots\n",
    "def plot_accuracies(history):\n",
    "    \"\"\" Plot the history of accuracies\"\"\"\n",
    "    accuracies = [x['val_acc'] for x in history]\n",
    "    plt.plot(accuracies, '-x')\n",
    "    plt.xlabel('epoch')\n",
    "    plt.ylabel('accuracy')\n",
    "    plt.title('Validation Accuracy')\n",
    "    plt.savefig(f'./outputs/plots/accuracies_{model_id}.png')\n",
    "\n",
    "def plot_losses(history):\n",
    "    \"\"\" Plot the losses in each epoch\"\"\"\n",
    "    train_losses = [x.get('train_loss') for x in history]\n",
    "    val_losses = [x['val_loss'] for x in history]\n",
    "    plt.plot(train_losses, '-bx')\n",
    "    plt.plot(val_losses, '-rx')\n",
    "    plt.xlabel('epoch')\n",
    "    plt.ylabel('loss')\n",
    "    plt.legend(['Training', 'Validation'])\n",
    "    plt.title('Train and Validation Losses')\n",
    "    plt.savefig(f'./outputs/plots/losses_{model_id}.png')"
   ]
  },
  {
   "cell_type": "markdown",
   "id": "e822ae50-c171-4820-a74f-f7ab5ece8984",
   "metadata": {},
   "source": [
    "**Training the model**"
   ]
  },
  {
   "cell_type": "code",
   "execution_count": 14,
   "id": "beadbe61-c51f-41d5-9470-1508b5bbcb09",
   "metadata": {},
   "outputs": [
    {
     "name": "stdout",
     "output_type": "stream",
     "text": [
      "Device: cuda\n"
     ]
    }
   ],
   "source": [
    "# define device and load data\n",
    "device = get_default_device()\n",
    "print('Device:', device)\n",
    "\n",
    "train_dl = DeviceDataLoader(train_dl, device)\n",
    "val_dl = DeviceDataLoader(val_dl, device)\n",
    "\n",
    "# load the model to the device\n",
    "model = to_device(HandGestureClassification(), device)"
   ]
  },
  {
   "cell_type": "code",
   "execution_count": 15,
   "id": "299550c4-56a3-4d99-ba4e-b6e8f96fe2b9",
   "metadata": {},
   "outputs": [],
   "source": [
    "# define hyperparameters\n",
    "epochs = 30\n",
    "lr = 0.01\n",
    "opt_func = torch.optim.SGD"
   ]
  },
  {
   "cell_type": "code",
   "execution_count": 16,
   "id": "9ffd69dc-d511-4a52-ac89-deb330cec8df",
   "metadata": {},
   "outputs": [
    {
     "name": "stdout",
     "output_type": "stream",
     "text": [
      "Epoch [0], train_loss: 3.0447, val_loss: 3.0448, val_acc: 0.0502\n",
      "Epoch [1], train_loss: 3.0445, val_loss: 3.0449, val_acc: 0.0502\n",
      "Epoch [2], train_loss: 3.0443, val_loss: 3.045, val_acc: 0.0502\n",
      "Epoch [3], train_loss: 3.0443, val_loss: 3.0451, val_acc: 0.0502\n",
      "Epoch [4], train_loss: 3.0442, val_loss: 3.0451, val_acc: 0.0502\n",
      "Epoch [5], train_loss: 3.0442, val_loss: 3.0451, val_acc: 0.0502\n",
      "Epoch [6], train_loss: 3.0442, val_loss: 3.0452, val_acc: 0.0502\n",
      "Epoch [7], train_loss: 3.0442, val_loss: 3.0452, val_acc: 0.0502\n",
      "Epoch [8], train_loss: 3.0441, val_loss: 3.0452, val_acc: 0.0502\n",
      "Epoch [9], train_loss: 3.0441, val_loss: 3.0451, val_acc: 0.0502\n",
      "Epoch [10], train_loss: 3.0441, val_loss: 3.0451, val_acc: 0.052\n",
      "Epoch [11], train_loss: 3.044, val_loss: 3.0451, val_acc: 0.0673\n",
      "Epoch [12], train_loss: 3.044, val_loss: 3.045, val_acc: 0.0502\n",
      "Epoch [13], train_loss: 3.0439, val_loss: 3.0449, val_acc: 0.0712\n",
      "Epoch [14], train_loss: 3.0437, val_loss: 3.0447, val_acc: 0.0713\n",
      "Epoch [15], train_loss: 3.0435, val_loss: 3.0444, val_acc: 0.0691\n",
      "Epoch [16], train_loss: 3.043, val_loss: 3.0438, val_acc: 0.0608\n",
      "Epoch [17], train_loss: 3.0419, val_loss: 3.0421, val_acc: 0.0569\n",
      "Epoch [18], train_loss: 3.0381, val_loss: 3.0334, val_acc: 0.1076\n",
      "Epoch [19], train_loss: 2.7047, val_loss: 2.3086, val_acc: 0.2661\n",
      "Epoch [20], train_loss: 1.4967, val_loss: 0.8628, val_acc: 0.7081\n",
      "Epoch [21], train_loss: 0.5215, val_loss: 0.2535, val_acc: 0.9128\n",
      "Epoch [22], train_loss: 0.2554, val_loss: 0.2428, val_acc: 0.9357\n",
      "Epoch [23], train_loss: 0.0794, val_loss: 0.0527, val_acc: 0.9826\n",
      "Epoch [24], train_loss: 0.0866, val_loss: 0.0526, val_acc: 0.9831\n",
      "Epoch [25], train_loss: 0.0384, val_loss: 0.2055, val_acc: 0.9641\n",
      "Epoch [26], train_loss: 0.0178, val_loss: 0.0096, val_acc: 0.9978\n",
      "Epoch [27], train_loss: 0.0072, val_loss: 0.0059, val_acc: 0.9984\n",
      "Epoch [28], train_loss: 0.0049, val_loss: 0.0061, val_acc: 0.9979\n",
      "Epoch [29], train_loss: 0.0208, val_loss: 0.0054, val_acc: 0.9986\n",
      "Total time: 24.3 min\n"
     ]
    }
   ],
   "source": [
    "# fit\n",
    "start_time = time.time()\n",
    "model_result = fit(epochs = epochs, lr = lr, model = model, train_loader = train_dl, val_loader = val_dl, opt_func = opt_func)\n",
    "end_time = time.time()\n",
    "print(f'Total time: {(end_time - start_time)/60:.3} min')"
   ]
  },
  {
   "cell_type": "code",
   "execution_count": 17,
   "id": "3658b9c2-8ae5-41ed-b703-c62909610a0c",
   "metadata": {},
   "outputs": [
    {
     "data": {
      "image/png": "[encoded data removed]",
      "text/plain": [
       "<Figure size 432x288 with 1 Axes>"
      ]
     },
     "metadata": {
      "needs_background": "light"
     },
     "output_type": "display_data"
    }
   ],
   "source": [
    "# plot accuracy\n",
    "plot_accuracies(model_result)"
   ]
  },
  {
   "cell_type": "code",
   "execution_count": 18,
   "id": "6ffd21f3-c070-427c-9f7c-1a7565874074",
   "metadata": {},
   "outputs": [
    {
     "data": {
      "image/png": "[encoded data removed]",
      "text/plain": [
       "<Figure size 432x288 with 1 Axes>"
      ]
     },
     "metadata": {
      "needs_background": "light"
     },
     "output_type": "display_data"
    }
   ],
   "source": [
    "# plot loss\n",
    "plot_losses(model_result)"
   ]
  },
  {
   "cell_type": "code",
   "execution_count": 19,
   "id": "0ad5db26-4431-4686-8a5b-37e11a620973",
   "metadata": {},
   "outputs": [],
   "source": [
    "# save model\n",
    "model_path = f'./outputs/models/{model_id}.pth'\n",
    "torch.save(model.state_dict(), model_path)"
   ]
  },
  {
   "cell_type": "code",
   "execution_count": 20,
   "id": "176c00bb-0ce5-49b6-84bd-f86bd0c787cb",
   "metadata": {},
   "outputs": [],
   "source": [
    "# save results\n",
    "result_list = ['Model ID:', model_id, '\\n',\n",
    "               'Path to model:', model_path, '\\n',\n",
    "               'Model architecture:', str(model), '\\n',\n",
    "               'Hyperparameters:', '- Epochs:', str(epochs), '- Learning rate:', str(lr), '- Optimization function:', str(opt_func), '\\n',\n",
    "               'Evaluation:', str(model_result[-1])]\n",
    "\n",
    "textfile = open(f'./outputs/results/results_{model_id}.txt', 'w')\n",
    "for element in result_list:\n",
    "    textfile.write(element + \"\\n\")\n",
    "textfile.close()"
   ]
  },
  {
   "cell_type": "markdown",
   "id": "c4d27ed1-8428-4025-97a0-5163ae919ccc",
   "metadata": {},
   "source": [
    "Execute all the step until here to generate a experiment. Execute a number of experiments changing hyperparameters and model architecture. Compare all experiments using validation accuracy. Use the best hyperparameter and architecture setting to execute the next steps and save final model."
   ]
  },
  {
   "cell_type": "markdown",
   "id": "02ea12dc-e65c-4e36-9c92-c88b102cc173",
   "metadata": {},
   "source": [
    "**Get the final model**"
   ]
  },
  {
   "cell_type": "code",
   "execution_count": 21,
   "id": "422123e7-7dfb-4d69-af62-62f991a8766e",
   "metadata": {},
   "outputs": [],
   "source": [
    "# change model ID\n",
    "model_id = 'final_classification_model'"
   ]
  },
  {
   "cell_type": "code",
   "execution_count": 22,
   "id": "9b7d07ae-bbe9-472e-96c9-adc28cd7021c",
   "metadata": {},
   "outputs": [],
   "source": [
    "# merge train and validation datasets\n",
    "full_train = ConcatDataset([train_data, val_data])"
   ]
  },
  {
   "cell_type": "code",
   "execution_count": 23,
   "id": "c1364698-703d-4f7b-a50f-cb7b2469fc93",
   "metadata": {},
   "outputs": [],
   "source": [
    "# load the datasets into batches\n",
    "full_train_dl = DataLoader(full_train, batch_size, shuffle = True, num_workers = 0, pin_memory = True)\n",
    "test_dl = DataLoader(test_data, batch_size, num_workers = 0, pin_memory = True)"
   ]
  },
  {
   "cell_type": "code",
   "execution_count": 24,
   "id": "73ad97d2-d2a4-4148-b2e0-d925cb06acf0",
   "metadata": {},
   "outputs": [],
   "source": [
    "# final architecture of CNN model\n",
    "class HandGestureClassificationFinal(ImageClassificationBase):\n",
    "    \n",
    "    def __init__(self):\n",
    "\n",
    "        super().__init__()\n",
    "        self.network = nn.Sequential(\n",
    "            \n",
    "            nn.Conv2d(3, 32, kernel_size = 3, stride = 1, padding = 1),\n",
    "            nn.ReLU(),\n",
    "            nn.Conv2d(32, 64, kernel_size = 3, stride = 1, padding = 1),\n",
    "            nn.ReLU(),\n",
    "            nn.MaxPool2d(2,2),\n",
    "        \n",
    "            nn.Conv2d(64, 128, kernel_size = 3, stride = 1, padding = 1),\n",
    "            nn.ReLU(),\n",
    "            nn.Conv2d(128, 128, kernel_size = 3, stride = 1, padding = 1),\n",
    "            nn.ReLU(),\n",
    "            nn.MaxPool2d(2,2),\n",
    "            \n",
    "            nn.Conv2d(128, 256, kernel_size = 3, stride = 1, padding = 1),\n",
    "            nn.ReLU(),\n",
    "            nn.Conv2d(256, 256, kernel_size = 3, stride = 1, padding = 1),\n",
    "            nn.ReLU(),\n",
    "            nn.MaxPool2d(2,2),\n",
    "            \n",
    "            nn.Flatten(),\n",
    "            nn.Linear(16384, 1024),\n",
    "            nn.ReLU(),\n",
    "            nn.Linear(1024, 512),\n",
    "            nn.ReLU(),\n",
    "            nn.Linear(512, 21)\n",
    "        )\n",
    "    \n",
    "    def forward(self, xb):\n",
    "        return self.network(xb)"
   ]
  },
  {
   "cell_type": "code",
   "execution_count": 25,
   "id": "4ac0b5a9-96dc-493f-a093-46f225a6ae72",
   "metadata": {},
   "outputs": [],
   "source": [
    "# load data\n",
    "full_train_dl = DeviceDataLoader(train_dl, device)\n",
    "test_dl = DeviceDataLoader(val_dl, device)\n",
    "\n",
    "# load the model to the device\n",
    "final_model = to_device(HandGestureClassificationFinal(), device)"
   ]
  },
  {
   "cell_type": "code",
   "execution_count": 26,
   "id": "cfd1ca4c-03cb-4c43-b83e-f84bd08746f0",
   "metadata": {},
   "outputs": [],
   "source": [
    "# define hyperparameters\n",
    "epochs = 30\n",
    "lr = 0.01\n",
    "opt_func = torch.optim.SGD"
   ]
  },
  {
   "cell_type": "code",
   "execution_count": 27,
   "id": "60252f43-cac3-43f4-a187-912441625e15",
   "metadata": {},
   "outputs": [
    {
     "name": "stdout",
     "output_type": "stream",
     "text": [
      "Epoch [0], train_loss: 3.0449, val_loss: 3.0446, val_acc: 0.0503\n",
      "Epoch [1], train_loss: 3.0446, val_loss: 3.0447, val_acc: 0.0438\n",
      "Epoch [2], train_loss: 3.0444, val_loss: 3.0448, val_acc: 0.0438\n",
      "Epoch [3], train_loss: 3.0442, val_loss: 3.0449, val_acc: 0.0438\n",
      "Epoch [4], train_loss: 3.0442, val_loss: 3.045, val_acc: 0.0438\n",
      "Epoch [5], train_loss: 3.0441, val_loss: 3.045, val_acc: 0.0459\n",
      "Epoch [6], train_loss: 3.044, val_loss: 3.045, val_acc: 0.0459\n",
      "Epoch [7], train_loss: 3.0439, val_loss: 3.0449, val_acc: 0.0635\n",
      "Epoch [8], train_loss: 3.0438, val_loss: 3.0447, val_acc: 0.0561\n",
      "Epoch [9], train_loss: 3.0436, val_loss: 3.0444, val_acc: 0.0509\n",
      "Epoch [10], train_loss: 3.0431, val_loss: 3.0437, val_acc: 0.0502\n",
      "Epoch [11], train_loss: 3.0419, val_loss: 3.0416, val_acc: 0.0715\n",
      "Epoch [12], train_loss: 3.0248, val_loss: 2.9021, val_acc: 0.1155\n",
      "Epoch [13], train_loss: 2.2619, val_loss: 2.1271, val_acc: 0.3335\n",
      "Epoch [14], train_loss: 1.2744, val_loss: 0.8288, val_acc: 0.7148\n",
      "Epoch [15], train_loss: 0.4613, val_loss: 0.606, val_acc: 0.8242\n",
      "Epoch [16], train_loss: 0.1803, val_loss: 0.2005, val_acc: 0.9313\n",
      "Epoch [17], train_loss: 0.091, val_loss: 0.1204, val_acc: 0.9603\n",
      "Epoch [18], train_loss: 0.0926, val_loss: 0.0385, val_acc: 0.9886\n",
      "Epoch [19], train_loss: 0.0368, val_loss: 0.1223, val_acc: 0.9735\n",
      "Epoch [20], train_loss: 0.0149, val_loss: 0.0116, val_acc: 0.9973\n",
      "Epoch [21], train_loss: 0.0268, val_loss: 0.0104, val_acc: 0.9968\n",
      "Epoch [22], train_loss: 0.0141, val_loss: 0.0112, val_acc: 0.997\n",
      "Epoch [23], train_loss: 0.0062, val_loss: 0.0165, val_acc: 0.9959\n",
      "Epoch [24], train_loss: 0.0015, val_loss: 0.006, val_acc: 0.9983\n",
      "Epoch [25], train_loss: 0.0004, val_loss: 0.006, val_acc: 0.9982\n",
      "Epoch [26], train_loss: 0.0002, val_loss: 0.0057, val_acc: 0.9982\n",
      "Epoch [27], train_loss: 0.0007, val_loss: 0.0056, val_acc: 0.9983\n",
      "Epoch [28], train_loss: 0.0002, val_loss: 0.0058, val_acc: 0.9982\n",
      "Epoch [29], train_loss: 0.0001, val_loss: 0.0057, val_acc: 0.9981\n",
      "Total time: 23.5 min\n"
     ]
    }
   ],
   "source": [
    "# fit\n",
    "start_time = time.time()\n",
    "final_model_result = fit(epochs = epochs, lr = lr, model = final_model, train_loader = full_train_dl, val_loader = test_dl, opt_func = opt_func)\n",
    "end_time = time.time()\n",
    "print(f'Total time: {(end_time - start_time)/60:.3} min')"
   ]
  },
  {
   "cell_type": "code",
   "execution_count": 28,
   "id": "b6166598-4a90-4d16-86ba-9e314cadf909",
   "metadata": {},
   "outputs": [
    {
     "data": {
      "image/png": "[encoded data removed]",
      "text/plain": [
       "<Figure size 432x288 with 1 Axes>"
      ]
     },
     "metadata": {
      "needs_background": "light"
     },
     "output_type": "display_data"
    }
   ],
   "source": [
    "# plot accuracy\n",
    "plot_accuracies(final_model_result)"
   ]
  },
  {
   "cell_type": "code",
   "execution_count": 29,
   "id": "e2e93d35-e4f7-4166-aa92-96715b35a70d",
   "metadata": {},
   "outputs": [
    {
     "data": {
      "image/png": "[encoded data removed]",
      "text/plain": [
       "<Figure size 432x288 with 1 Axes>"
      ]
     },
     "metadata": {
      "needs_background": "light"
     },
     "output_type": "display_data"
    }
   ],
   "source": [
    "# plot loss\n",
    "plot_losses(final_model_result)"
   ]
  },
  {
   "cell_type": "code",
   "execution_count": 30,
   "id": "c98f707f-aedb-4c59-b518-7dcef1e76957",
   "metadata": {},
   "outputs": [
    {
     "name": "stdout",
     "output_type": "stream",
     "text": [
      "{'val_loss': 0.005749234929680824, 'val_acc': 0.9980904459953308}\n"
     ]
    }
   ],
   "source": [
    "# evaluate the model in test data\n",
    "result = evaluate(final_model, test_dl)\n",
    "print(result)"
   ]
  },
  {
   "cell_type": "code",
   "execution_count": 31,
   "id": "648025f0-2155-4fae-ad9c-0ac2f82ec7a5",
   "metadata": {},
   "outputs": [],
   "source": [
    "# save model\n",
    "model_path = f'./outputs/models/{model_id}.pth'\n",
    "torch.save(final_model.state_dict(), model_path)"
   ]
  },
  {
   "cell_type": "markdown",
   "id": "bc80fd67-5e39-4f70-9aef-79a92048a365",
   "metadata": {},
   "source": [
    "**Prediction for an image**"
   ]
  },
  {
   "cell_type": "code",
   "execution_count": 32,
   "id": "039099ef-3dd2-49eb-b898-cf48f35cb969",
   "metadata": {},
   "outputs": [],
   "source": [
    "def predict_img_class(img,model):\n",
    "    img = to_device(img.unsqueeze(0), device)\n",
    "    prediction = model(img)\n",
    "    _, preds = torch.max(prediction, dim = 1)\n",
    "    prob = torch.max(F.softmax(prediction, dim = 1)).item()\n",
    "    return [dataset.classes[preds[0].item()], prob]"
   ]
  },
  {
   "cell_type": "code",
   "execution_count": 38,
   "id": "5beada24-5017-45cd-8550-377eea035326",
   "metadata": {},
   "outputs": [
    {
     "name": "stdout",
     "output_type": "stream",
     "text": [
      "Predicted class: B\n",
      "Confidence: 0.9999984502792358\n"
     ]
    },
    {
     "data": {
      "image/png": "[encoded data removed]",
      "text/plain": [
       "<Figure size 288x288 with 1 Axes>"
      ]
     },
     "metadata": {
      "needs_background": "light"
     },
     "output_type": "display_data"
    }
   ],
   "source": [
    "# get image path\n",
    "file_path = './data/letters/B/B (2100).png'\n",
    "\n",
    "# display image and prediction\n",
    "img = cv2.imread(file_path, cv2.IMREAD_COLOR)\n",
    "img = cv2.cvtColor(img, cv2.COLOR_BGR2RGB)\n",
    "\n",
    "plt.figure(figsize = (4, 4))\n",
    "plt.imshow(img)\n",
    "\n",
    "img_tensor = transforms.ToTensor()(img)\n",
    "\n",
    "prediction = predict_img_class(img_tensor, final_model)\n",
    "print(f'Predicted class: {prediction[0]}')\n",
    "print(f'Confidence: {prediction[1]}')"
   ]
  }
 ],
 "metadata": {
  "kernelspec": {
   "display_name": "Python 3 (ipykernel)",
   "language": "python",
   "name": "python3"
  },
  "language_info": {
   "codemirror_mode": {
    "name": "ipython",
    "version": 3
   },
   "file_extension": ".py",
   "mimetype": "text/x-python",
   "name": "python",
   "nbconvert_exporter": "python",
   "pygments_lexer": "ipython3",
   "version": "3.9.7"
  }
 },
 "nbformat": 4,
 "nbformat_minor": 5
}
